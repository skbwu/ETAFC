{
 "cells": [
  {
   "cell_type": "code",
   "execution_count": 1,
   "id": "1d09974b",
   "metadata": {},
   "outputs": [],
   "source": [
    "import numpy as np\n",
    "import pandas as pd\n",
    "import sys, copy, os, shutil\n",
    "from IPython.display import clear_output"
   ]
  },
  {
   "cell_type": "code",
   "execution_count": 15,
   "id": "0f3d8ea4",
   "metadata": {},
   "outputs": [],
   "source": [
    "# create a dataframe of our results and see what's finished and what's not finished\n",
    "logs = pd.DataFrame(data=None, columns=[\"shuffle\", \"log_trans\", \"fh\", \n",
    "                                        \"num_lags\", \"cluster_mech\", \"num_nodes\", \"complete\"])\n",
    "\n",
    "# iterate through all possible settings\n",
    "for shuffle in [True, False]:\n",
    "    for log_trans in [True, False]:\n",
    "        for fh in [1, 2, 3, 4, 5, 6, 7, 8, 9, 10, 11, 12]:\n",
    "            for num_lags in [1, 2, 3, 4, 6, 12, 24]:\n",
    "                for cluster_mech in [0, 1, 2]:\n",
    "                    for num_nodes in [8, 16, 32, 64, 128]:\n",
    "\n",
    "                        # get what our file name should be\n",
    "                        fname = f\"fh={fh}_log-trans={log_trans}_num-nodes={num_nodes}_cluster-mech={cluster_mech}_num-lags={num_lags}_shuffle={shuffle}.csv\"\n",
    "                        \n",
    "                        # if the file doesn't exist yet just indicate accordingly\n",
    "                        complete = True if fname in os.listdir(\"tgcn_results\") else False\n",
    "                        logs.loc[len(logs.index)] = [shuffle, log_trans, fh, num_lags, cluster_mech,\n",
    "                                                     num_nodes, complete]"
   ]
  },
  {
   "cell_type": "code",
   "execution_count": 16,
   "id": "26fc496a",
   "metadata": {},
   "outputs": [],
   "source": [
    "# save our fails as a .csv\n",
    "tgcn_fails = logs.query(\"complete == False\")\n",
    "tgcn_fails.to_csv(\"tgcn_fails.csv\", index=False)"
   ]
  },
  {
   "cell_type": "code",
   "execution_count": 25,
   "id": "2d7b6f3b",
   "metadata": {},
   "outputs": [],
   "source": [
    "# create a dataframe of our results and see what's finished and what's not finished\n",
    "logs = pd.DataFrame(data=None, columns=[\"log_trans\", \"local_reg\", \"neighbor_reg\", \"fh\", \n",
    "                                        \"num_lags\", \"cluster_mech\", \"complete\"])\n",
    "\n",
    "# iterate through all possible settings, starting with to log-transform or not\n",
    "for log_trans in [True, False]:\n",
    "    \n",
    "    # (protected local lags, protected global lags)\n",
    "    for reg_scheme in [(0, 0), (1, 0), (1, 1), (2, 0), (2, 1), (2, 2)]:\n",
    "    \n",
    "        # how many weeks are we predicting into the future?\n",
    "        for fh in [1, 2, 3, 4, 5, 6, 7, 8, 9, 10, 11, 12]:\n",
    "\n",
    "            # how many historical lags are we considering when making predictions?\n",
    "            for num_lags in [1, 2, 3, 4, 6, 12, 24]:\n",
    "\n",
    "                # political (0), geographical (1), fully-connected (2), and no connections (3)\n",
    "                for cluster_mech in [0, 1, 2, 3]:\n",
    "                    \n",
    "                    # get what the filename should be\n",
    "                    fname = f\"fh={fh}_log-trans={log_trans}_num-lags={num_lags}\"\\\n",
    "                    + f\"_cluster-mech={cluster_mech}_reg-scheme={reg_scheme[0]}+{reg_scheme[1]}.csv\"\n",
    "                    \n",
    "                    # if the file doesn't exist yet just indicate accordingly\n",
    "                    complete = True if fname in os.listdir(\"linear_results\") else False\n",
    "                    logs.loc[len(logs.index)] = [log_trans, reg_scheme[0], reg_scheme[1], \n",
    "                                                 fh, num_lags, cluster_mech, complete]\n",
    "                    \n",
    "# save our fails as a .csv\n",
    "linear_fails = logs.query(\"complete == False\")\n",
    "linear_fails.to_csv(\"linear_fails.csv\", index=False)"
   ]
  }
 ],
 "metadata": {
  "kernelspec": {
   "display_name": "Python 3 (ipykernel)",
   "language": "python",
   "name": "python3"
  },
  "language_info": {
   "codemirror_mode": {
    "name": "ipython",
    "version": 3
   },
   "file_extension": ".py",
   "mimetype": "text/x-python",
   "name": "python",
   "nbconvert_exporter": "python",
   "pygments_lexer": "ipython3",
   "version": "3.9.10"
  }
 },
 "nbformat": 4,
 "nbformat_minor": 5
}
